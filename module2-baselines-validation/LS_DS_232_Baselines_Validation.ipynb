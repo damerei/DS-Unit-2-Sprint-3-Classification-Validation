{
  "nbformat": 4,
  "nbformat_minor": 0,
  "metadata": {
    "colab": {
      "name": "LS_DS_232_Baselines_Validation.ipynb",
      "version": "0.3.2",
      "provenance": []
    },
    "language_info": {
      "codemirror_mode": {
        "name": "ipython",
        "version": 3
      },
      "file_extension": ".py",
      "mimetype": "text/x-python",
      "name": "python",
      "nbconvert_exporter": "python",
      "pygments_lexer": "ipython3",
      "version": "3.7.1"
    },
    "kernelspec": {
      "display_name": "Python 3",
      "language": "python",
      "name": "python3"
    }
  },
  "cells": [
    {
      "cell_type": "markdown",
      "metadata": {
        "id": "Vi6uBNlGJv_1",
        "colab_type": "text"
      },
      "source": [
        "_Lambda School Data Science — Classification & Validation_ \n",
        "\n",
        "# Baselines & Validation\n",
        "\n",
        "Objectives\n",
        "- Train/Validate/Test split\n",
        "- Cross-Validation\n",
        "- Begin with baselines"
      ]
    },
    {
      "cell_type": "markdown",
      "metadata": {
        "id": "aUKgMNQCJv_2",
        "colab_type": "text"
      },
      "source": [
        "## Weather data —  mean baseline\n",
        "\n",
        "Let's try baselines for regression.\n",
        "\n",
        "You can [get Past Weather by Zip Code from Climate.gov](https://www.climate.gov/maps-data/dataset/past-weather-zip-code-data-table). I downloaded the data for my town: Normal, Illinois."
      ]
    },
    {
      "cell_type": "code",
      "metadata": {
        "id": "iwm4RJBuJv_3",
        "colab_type": "code",
        "colab": {
          "base_uri": "https://localhost:8080/",
          "height": 285
        },
        "outputId": "25ce921d-1566-4aee-9d58-04748521ffe8"
      },
      "source": [
        "%matplotlib inline\n",
        "import matplotlib.pyplot as plt\n",
        "import pandas as pd \n",
        "\n",
        "url = 'https://raw.githubusercontent.com/LambdaSchool/DS-Unit-2-Sprint-3-Classification-Validation/master/module2-baselines-validation/weather-normal-il.csv'\n",
        "weather = pd.read_csv(url, parse_dates=['DATE']).set_index('DATE')\n",
        "weather['2014-05':'2019-05'].plot(y='TMAX')\n",
        "plt.title('Daily high temperature in Normal, IL');"
      ],
      "execution_count": 3,
      "outputs": [
        {
          "output_type": "display_data",
          "data": {
            "image/png": "[encoded data removed]",
            "text/plain": [
              "<Figure size 432x288 with 1 Axes>"
            ]
          },
          "metadata": {
            "tags": []
          }
        }
      ]
    },
    {
      "cell_type": "markdown",
      "metadata": {
        "id": "4qd05q7gJv_5",
        "colab_type": "text"
      },
      "source": [
        "Over the years, across the seasons, the average daily high temperature in my town is about 63 degrees."
      ]
    },
    {
      "cell_type": "code",
      "metadata": {
        "id": "oxhc-I7cJv_5",
        "colab_type": "code",
        "colab": {
          "base_uri": "https://localhost:8080/",
          "height": 34
        },
        "outputId": "49c29112-dde4-4cca-91f9-7d9e2b38a646"
      },
      "source": [
        "weather['TMAX'].mean()"
      ],
      "execution_count": 4,
      "outputs": [
        {
          "output_type": "execute_result",
          "data": {
            "text/plain": [
              "62.51874226107839"
            ]
          },
          "metadata": {
            "tags": []
          },
          "execution_count": 4
        }
      ]
    },
    {
      "cell_type": "markdown",
      "metadata": {
        "id": "JemEIxfzJv_7",
        "colab_type": "text"
      },
      "source": [
        "Remember from [the preread:](https://github.com/LambdaSchool/DS-Unit-2-Sprint-3-Classification-Validation/blob/master/module2-baselines-validation/model-validation-preread.md#what-does-baseline-mean) \"A baseline for regression can be the mean of the training labels.\""
      ]
    },
    {
      "cell_type": "markdown",
      "metadata": {
        "id": "F1nE40EfJv_8",
        "colab_type": "text"
      },
      "source": [
        "If I predicted that every day, the high will be 63 degrees, I'd be off by about 19 degrees on average."
      ]
    },
    {
      "cell_type": "code",
      "metadata": {
        "id": "dFHNXakoJv_9",
        "colab_type": "code",
        "colab": {
          "base_uri": "https://localhost:8080/",
          "height": 34
        },
        "outputId": "5ce69847-42a4-44e4-e10d-ac1cdd0bad3b"
      },
      "source": [
        "from sklearn.metrics import mean_absolute_error\n",
        "predicted = [weather['TMAX'].mean()] * len(weather)  \n",
        "mean_absolute_error(weather['TMAX'], predicted)"
      ],
      "execution_count": 5,
      "outputs": [
        {
          "output_type": "execute_result",
          "data": {
            "text/plain": [
              "18.687693151466384"
            ]
          },
          "metadata": {
            "tags": []
          },
          "execution_count": 5
        }
      ]
    },
    {
      "cell_type": "markdown",
      "metadata": {
        "id": "dNQ4ioxEJv_-",
        "colab_type": "text"
      },
      "source": [
        "But, we can get a better baseline here: \"A baseline for time-series regressions can be the value from the previous timestep.\"\n",
        "\n",
        "*Data Science for Business* explains, \n",
        "\n",
        "> Weather forecasters have two simple—but not simplistic—baseline models that they compare against. ***One (persistence) predicts that the weather tomorrow is going to be whatever it was today.*** The other (climatology) predicts whatever the average historical weather has been on this day from prior years. Each model performs considerably better than random guessing, and both are so easy to compute that they make natural baselines of comparison. Any new, more complex model must beat these."
      ]
    },
    {
      "cell_type": "markdown",
      "metadata": {
        "id": "AIlfj8AQJv__",
        "colab_type": "text"
      },
      "source": [
        "Let's predict that the weather tomorrow is going to be whatever it was today. Which is another way of saying that the weather today is going to be whatever it was yesterday.\n",
        "\n",
        "We can engineer this feature with one line of code, using the pandas [`shift`](https://pandas.pydata.org/pandas-docs/stable/generated/pandas.DataFrame.shift.html) function.\n",
        "\n",
        "This new baseline is off by less than 6 degress on average."
      ]
    },
    {
      "cell_type": "code",
      "metadata": {
        "scrolled": true,
        "id": "X9l_AIAIJwAA",
        "colab_type": "code",
        "colab": {
          "base_uri": "https://localhost:8080/",
          "height": 34
        },
        "outputId": "bed56286-8d97-492e-aa83-b4fe55b4c1e7"
      },
      "source": [
        "weather['TMAX_yesterday'] = weather.TMAX.shift(1)\n",
        "weather = weather.dropna()  # Drops the first date, because it doesn't have a \"yesterday\"\n",
        "mean_absolute_error(weather.TMAX, weather.TMAX_yesterday)"
      ],
      "execution_count": 6,
      "outputs": [
        {
          "output_type": "execute_result",
          "data": {
            "text/plain": [
              "5.53609756097561"
            ]
          },
          "metadata": {
            "tags": []
          },
          "execution_count": 6
        }
      ]
    },
    {
      "cell_type": "markdown",
      "metadata": {
        "id": "CVYUXU3OJwAC",
        "colab_type": "text"
      },
      "source": [
        "I applied this same concept for [my first submission to the Kaggle Instacart competition.](https://github.com/rrherr/springboard/blob/master/Kaggle%20Instacart%20first%20submission.ipynb)"
      ]
    },
    {
      "cell_type": "markdown",
      "metadata": {
        "id": "E-QY-fX-JwAC",
        "colab_type": "text"
      },
      "source": [
        "## Bank Marketing — majority class baseline\n",
        "\n",
        "https://archive.ics.uci.edu/ml/datasets/Bank+Marketing\n",
        "\n",
        ">The data is related with direct marketing campaigns of a Portuguese banking institution. The marketing campaigns were based on phone calls. Often, more than one contact to the same client was required, in order to access if the product (bank term deposit) would be ('yes') or not ('no') subscribed. \n",
        "\n",
        ">Output variable (desired target):  \n",
        ">y - has the client subscribed a term deposit? (binary: 'yes','no')\n",
        "\n",
        ">bank-additional-full.csv with all examples (41188) and 20 inputs, ordered by date (from May 2008 to November 2010)"
      ]
    },
    {
      "cell_type": "markdown",
      "metadata": {
        "id": "AimEQjp8JwAD",
        "colab_type": "text"
      },
      "source": [
        "Get and read the data"
      ]
    },
    {
      "cell_type": "code",
      "metadata": {
        "id": "NY8-c6yGJwAD",
        "colab_type": "code",
        "colab": {
          "base_uri": "https://localhost:8080/",
          "height": 208
        },
        "outputId": "d17d0d46-b413-45eb-8d42-291a5d7efc91"
      },
      "source": [
        "!wget https://archive.ics.uci.edu/ml/machine-learning-databases/00222/bank-additional.zip"
      ],
      "execution_count": 7,
      "outputs": [
        {
          "output_type": "stream",
          "text": [
            "--2019-05-07 21:17:33--  https://archive.ics.uci.edu/ml/machine-learning-databases/00222/bank-additional.zip\n",
            "Resolving archive.ics.uci.edu (archive.ics.uci.edu)... 128.195.10.252\n",
            "Connecting to archive.ics.uci.edu (archive.ics.uci.edu)|128.195.10.252|:443... connected.\n",
            "HTTP request sent, awaiting response... 200 OK\n",
            "Length: 444572 (434K) [application/x-httpd-php]\n",
            "Saving to: ‘bank-additional.zip’\n",
            "\n",
            "bank-additional.zip 100%[===================>] 434.15K   121KB/s    in 3.6s    \n",
            "\n",
            "2019-05-07 21:17:39 (121 KB/s) - ‘bank-additional.zip’ saved [444572/444572]\n",
            "\n"
          ],
          "name": "stdout"
        }
      ]
    },
    {
      "cell_type": "code",
      "metadata": {
        "id": "332hiFUOJwAF",
        "colab_type": "code",
        "colab": {
          "base_uri": "https://localhost:8080/",
          "height": 208
        },
        "outputId": "48de0794-be68-4a01-e96d-55db992008d0"
      },
      "source": [
        "!unzip bank-additional.zip"
      ],
      "execution_count": 8,
      "outputs": [
        {
          "output_type": "stream",
          "text": [
            "Archive:  bank-additional.zip\n",
            "   creating: bank-additional/\n",
            "  inflating: bank-additional/.DS_Store  \n",
            "   creating: __MACOSX/\n",
            "   creating: __MACOSX/bank-additional/\n",
            "  inflating: __MACOSX/bank-additional/._.DS_Store  \n",
            "  inflating: bank-additional/.Rhistory  \n",
            "  inflating: bank-additional/bank-additional-full.csv  \n",
            "  inflating: bank-additional/bank-additional-names.txt  \n",
            "  inflating: bank-additional/bank-additional.csv  \n",
            "  inflating: __MACOSX/._bank-additional  \n"
          ],
          "name": "stdout"
        }
      ]
    },
    {
      "cell_type": "code",
      "metadata": {
        "id": "B_o9VSVPJwAH",
        "colab_type": "code",
        "colab": {}
      },
      "source": [
        "bank = pd.read_csv('bank-additional/bank-additional-full.csv', sep=';')"
      ],
      "execution_count": 0,
      "outputs": []
    },
    {
      "cell_type": "markdown",
      "metadata": {
        "id": "PGkIa7UKJwAK",
        "colab_type": "text"
      },
      "source": [
        "Assign to X and y"
      ]
    },
    {
      "cell_type": "code",
      "metadata": {
        "id": "lzvqk2kAJwAL",
        "colab_type": "code",
        "colab": {}
      },
      "source": [
        "X = bank.drop(columns='y')\n",
        "y = bank['y'] == 'yes'"
      ],
      "execution_count": 0,
      "outputs": []
    },
    {
      "cell_type": "markdown",
      "metadata": {
        "id": "0VjcWrz5JwAO",
        "colab_type": "text"
      },
      "source": [
        "## 3-way split: Train / Validation / Test "
      ]
    },
    {
      "cell_type": "markdown",
      "metadata": {
        "id": "El3qqHBIJwAP",
        "colab_type": "text"
      },
      "source": [
        "We know how to do a _two-way split_, with the [**`sklearn.model_selection.train_test_split`**](https://scikit-learn.org/stable/modules/generated/sklearn.model_selection.train_test_split.html) function:"
      ]
    },
    {
      "cell_type": "code",
      "metadata": {
        "id": "JvY9Nx8pJwAP",
        "colab_type": "code",
        "colab": {}
      },
      "source": [
        "from sklearn.model_selection import train_test_split\n",
        "\n",
        "X_train, X_test, y_train, y_test = train_test_split(\n",
        "    X, y, test_size=0.2, random_state=42, stratify=y)"
      ],
      "execution_count": 0,
      "outputs": []
    },
    {
      "cell_type": "markdown",
      "metadata": {
        "id": "ia51GpeYJwAS",
        "colab_type": "text"
      },
      "source": [
        "How can we get from a two-way split, to a three-way split?\n",
        "\n",
        "We can use the same function again, to split the training data into training and validation data."
      ]
    },
    {
      "cell_type": "code",
      "metadata": {
        "id": "IPAgFeh5JwAT",
        "colab_type": "code",
        "colab": {}
      },
      "source": [
        "X_train, X_val, y_train, y_val = train_test_split(\n",
        "    X_train, y_train, test_size=0.3, random_state=42, stratify=y_train)"
      ],
      "execution_count": 0,
      "outputs": []
    },
    {
      "cell_type": "code",
      "metadata": {
        "id": "702VAqCXJwAV",
        "colab_type": "code",
        "colab": {
          "base_uri": "https://localhost:8080/",
          "height": 34
        },
        "outputId": "785835b4-9fce-4046-fab9-1c593a9f1e34"
      },
      "source": [
        "X_train.shape, X_val.shape, X_test.shape, y_train.shape, y_val.shape, y_test.shape"
      ],
      "execution_count": 14,
      "outputs": [
        {
          "output_type": "execute_result",
          "data": {
            "text/plain": [
              "((23065, 20), (9885, 20), (8238, 20), (23065,), (9885,), (8238,))"
            ]
          },
          "metadata": {
            "tags": []
          },
          "execution_count": 14
        }
      ]
    },
    {
      "cell_type": "markdown",
      "metadata": {
        "id": "0e2dovMzJwAX",
        "colab_type": "text"
      },
      "source": [
        "## Majority class baseline"
      ]
    },
    {
      "cell_type": "markdown",
      "metadata": {
        "id": "bl2MVwQQJwAX",
        "colab_type": "text"
      },
      "source": [
        "Determine the majority class:"
      ]
    },
    {
      "cell_type": "code",
      "metadata": {
        "id": "EkTLLdYHJwAY",
        "colab_type": "code",
        "colab": {
          "base_uri": "https://localhost:8080/",
          "height": 69
        },
        "outputId": "179e5129-dd86-4cee-9509-fe27a88ac530"
      },
      "source": [
        "y_train.value_counts(normalize=True)"
      ],
      "execution_count": 15,
      "outputs": [
        {
          "output_type": "execute_result",
          "data": {
            "text/plain": [
              "False    0.887362\n",
              "True     0.112638\n",
              "Name: y, dtype: float64"
            ]
          },
          "metadata": {
            "tags": []
          },
          "execution_count": 15
        }
      ]
    },
    {
      "cell_type": "markdown",
      "metadata": {
        "id": "N5FB4BZsJwAa",
        "colab_type": "text"
      },
      "source": [
        "What if we guessed the majority class for every prediction?"
      ]
    },
    {
      "cell_type": "code",
      "metadata": {
        "id": "56o42jG0JwAb",
        "colab_type": "code",
        "colab": {}
      },
      "source": [
        "majority_class = y_train.mode()[0]\n",
        "y_pred = [majority_class] * len(y_val)"
      ],
      "execution_count": 0,
      "outputs": []
    },
    {
      "cell_type": "markdown",
      "metadata": {
        "id": "iNJ6gE_jJwAc",
        "colab_type": "text"
      },
      "source": [
        "#### [`sklearn.metrics.accuracy_score`](https://scikit-learn.org/stable/modules/generated/sklearn.metrics.accuracy_score.html)\n",
        "\n",
        "Baseline accuracy by guessing the majority class for every prediction:"
      ]
    },
    {
      "cell_type": "code",
      "metadata": {
        "id": "OUkGoWarJwAd",
        "colab_type": "code",
        "colab": {
          "base_uri": "https://localhost:8080/",
          "height": 34
        },
        "outputId": "9697c925-c83f-4473-8b50-e4b69bf7361b"
      },
      "source": [
        "from sklearn.metrics import accuracy_score\n",
        "accuracy_score(y_val, y_pred)"
      ],
      "execution_count": 17,
      "outputs": [
        {
          "output_type": "execute_result",
          "data": {
            "text/plain": [
              "0.8873039959534649"
            ]
          },
          "metadata": {
            "tags": []
          },
          "execution_count": 17
        }
      ]
    },
    {
      "cell_type": "markdown",
      "metadata": {
        "id": "YsCCoX8mJwAf",
        "colab_type": "text"
      },
      "source": [
        "#### [`sklearn.metrics.roc_auc_score`](https://scikit-learn.org/stable/modules/generated/sklearn.metrics.roc_auc_score.html)\n",
        "\n",
        "Baseline \"ROC AUC\" score by guessing the majority class for every prediction:"
      ]
    },
    {
      "cell_type": "code",
      "metadata": {
        "id": "PJQANdIbJwAg",
        "colab_type": "code",
        "colab": {
          "base_uri": "https://localhost:8080/",
          "height": 34
        },
        "outputId": "d182afe1-2482-4641-e66f-ba4ea8f2773e"
      },
      "source": [
        "from sklearn.metrics import roc_auc_score\n",
        "roc_auc_score(y_val, y_pred)"
      ],
      "execution_count": 18,
      "outputs": [
        {
          "output_type": "execute_result",
          "data": {
            "text/plain": [
              "0.5"
            ]
          },
          "metadata": {
            "tags": []
          },
          "execution_count": 18
        }
      ]
    },
    {
      "cell_type": "markdown",
      "metadata": {
        "id": "YkpyMKblJwAj",
        "colab_type": "text"
      },
      "source": [
        "## Fast first models"
      ]
    },
    {
      "cell_type": "markdown",
      "metadata": {
        "id": "9VToDeGrJwAj",
        "colab_type": "text"
      },
      "source": [
        "### Ignore rows/columns with nulls"
      ]
    },
    {
      "cell_type": "markdown",
      "metadata": {
        "id": "OYsuxi4xJwAk",
        "colab_type": "text"
      },
      "source": [
        "Does this dataset have nulls?"
      ]
    },
    {
      "cell_type": "code",
      "metadata": {
        "id": "hsYS3VKPJwAk",
        "colab_type": "code",
        "colab": {}
      },
      "source": [
        ""
      ],
      "execution_count": 0,
      "outputs": []
    },
    {
      "cell_type": "markdown",
      "metadata": {
        "id": "bGg6sfEhJwAm",
        "colab_type": "text"
      },
      "source": [
        "### Ignore nonnumeric features"
      ]
    },
    {
      "cell_type": "markdown",
      "metadata": {
        "id": "a0878PJ6JwAn",
        "colab_type": "text"
      },
      "source": [
        "Here are the numeric features:"
      ]
    },
    {
      "cell_type": "code",
      "metadata": {
        "id": "-J27iMAQJwAn",
        "colab_type": "code",
        "colab": {}
      },
      "source": [
        ""
      ],
      "execution_count": 0,
      "outputs": []
    },
    {
      "cell_type": "markdown",
      "metadata": {
        "id": "3zzM26cpJwAo",
        "colab_type": "text"
      },
      "source": [
        "Here are the nonnumeric features:"
      ]
    },
    {
      "cell_type": "code",
      "metadata": {
        "id": "jOD6ut4LJwAp",
        "colab_type": "code",
        "colab": {}
      },
      "source": [
        ""
      ],
      "execution_count": 0,
      "outputs": []
    },
    {
      "cell_type": "markdown",
      "metadata": {
        "id": "Pd7YiAjuJwAr",
        "colab_type": "text"
      },
      "source": [
        "Just select the nonnumeric features:"
      ]
    },
    {
      "cell_type": "code",
      "metadata": {
        "id": "l6xIZB5VJwAr",
        "colab_type": "code",
        "colab": {}
      },
      "source": [
        "X_train_numeric = X_train.select_dtypes('number')\n",
        "X_val_numeric = X_val.select_dtypes('number')"
      ],
      "execution_count": 0,
      "outputs": []
    },
    {
      "cell_type": "markdown",
      "metadata": {
        "id": "yLzJ7YB3JwAt",
        "colab_type": "text"
      },
      "source": [
        "### Shallow trees are good for fast, first baselines, and to look for \"leakage\""
      ]
    },
    {
      "cell_type": "markdown",
      "metadata": {
        "id": "syAY0ktYJwAu",
        "colab_type": "text"
      },
      "source": [
        "#### Shallow trees"
      ]
    },
    {
      "cell_type": "markdown",
      "metadata": {
        "id": "gm3gxlwbJwAu",
        "colab_type": "text"
      },
      "source": [
        "After naive baselines, *Data Science for Business* suggests [\"decision stumps.\"](https://en.wikipedia.org/wiki/Decision_stump)\n",
        "\n",
        "> A slightly more complex alternative is a model that only considers a very small amount of feature information. ...\n",
        "\n",
        "> One example is to build a \"decision stump\"—a decision tree with only one internal node, the root node. A tree limited to one internal node simply means that the tree induction selects the single most informative feature to make a decision. In a well-known paper in machine learning, [Robert Holte (1993)](https://link.springer.com/article/10.1023/A:1022631118932) showed that ***decision stumps often produce quite good baseline performance*** ...\n",
        "\n",
        "> A decision stump is an example of the strategy of ***choosing the single most informative piece of information*** available and basing all decisions on it. In some cases most of the leverage may be coming from a single feature, and this method assesses whether and to what extent this is the case.\n",
        "\n",
        "To fit a \"decision stump\" we could use a [`DecisionTreeClassifier`](http://scikit-learn.org/stable/modules/generated/sklearn.tree.DecisionTreeClassifier.html) model with parameter `max_depth=1`.\n",
        "\n",
        "In this case, we'll let our tree grow a little deeper, and use the parameter `max_depth=2`\n",
        "\n",
        "In the previous code cell, we selected only the numeric features, to avoid data wrangling and save time. For now, we'll use only the numeric features."
      ]
    },
    {
      "cell_type": "markdown",
      "metadata": {
        "id": "ZnikMaWBJwAv",
        "colab_type": "text"
      },
      "source": [
        "#### Looking for leakage"
      ]
    },
    {
      "cell_type": "markdown",
      "metadata": {
        "id": "gEo7wKAGJwAv",
        "colab_type": "text"
      },
      "source": [
        "[Xavier Amatriain recommends,](https://www.quora.com/What-are-some-best-practices-for-training-machine-learning-models/answer/Xavier-Amatriain)\n",
        "\n",
        "\"Make sure your training features do not contain data from the “future” (aka time traveling). While this might be easy and obvious in some cases, it can get tricky. ... If your test metric becomes really good all of the sudden, ask yourself what you might be doing wrong. Chances are you are time travelling or overfitting in some way.\""
      ]
    },
    {
      "cell_type": "markdown",
      "metadata": {
        "id": "19g-4n3dJwAw",
        "colab_type": "text"
      },
      "source": [
        "We can test this with the [UCI repository's Bank Marketing dataset](https://archive.ics.uci.edu/ml/datasets/Bank+Marketing). It has a feature which leaks information from the future and should be dropped:\n",
        "\n",
        ">11 - duration: last contact duration, in seconds (numeric). Important note: this attribute highly affects the output target (e.g., if duration=0 then y='no'). Yet, the duration is not known before a call is performed. Also, after the end of the call y is obviously known. Thus, this input ... should be discarded if the intention is to have a realistic predictive model."
      ]
    },
    {
      "cell_type": "markdown",
      "metadata": {
        "id": "FH81YGQWJwAw",
        "colab_type": "text"
      },
      "source": [
        "#### Let's train a shallow tree basline\n",
        "\n",
        "... without dropping the leaky `duration` feature."
      ]
    },
    {
      "cell_type": "code",
      "metadata": {
        "id": "BsY8LUqlJwAx",
        "colab_type": "code",
        "colab": {}
      },
      "source": [
        ""
      ],
      "execution_count": 0,
      "outputs": []
    },
    {
      "cell_type": "markdown",
      "metadata": {
        "id": "JxzdlqnqJwAz",
        "colab_type": "text"
      },
      "source": [
        "Then we can visualize the tree to see which feature(s) were the \"most informative\":"
      ]
    },
    {
      "cell_type": "code",
      "metadata": {
        "id": "mq83HlQKJwAz",
        "colab_type": "code",
        "colab": {}
      },
      "source": [
        "import graphviz\n",
        "from sklearn.tree import export_graphviz\n",
        "\n",
        "dot_data = export_graphviz(tree, out_file=None, feature_names=X_train_numeric.columns, \n",
        "                           class_names=['No', 'Yes'], filled=True, impurity=False, proportion=True)\n",
        "\n",
        "graphviz.Source(dot_data)"
      ],
      "execution_count": 0,
      "outputs": []
    },
    {
      "cell_type": "markdown",
      "metadata": {
        "id": "5tFuMA7wJwA1",
        "colab_type": "text"
      },
      "source": [
        "This baseline has a ROC AUC score above 0.85, and it uses the `duration` feature, as well as `nr.employed`, a \"social and economic context attribute\" for \"number of employees - quarterly indicator.\""
      ]
    },
    {
      "cell_type": "markdown",
      "metadata": {
        "id": "Ro-hcGFCJwA1",
        "colab_type": "text"
      },
      "source": [
        "#### Let's drop the  `duration` feature"
      ]
    },
    {
      "cell_type": "code",
      "metadata": {
        "id": "k-lOVNNvJwA2",
        "colab_type": "code",
        "colab": {}
      },
      "source": [
        ""
      ],
      "execution_count": 0,
      "outputs": []
    },
    {
      "cell_type": "markdown",
      "metadata": {
        "id": "SbwtsVWCJwA3",
        "colab_type": "text"
      },
      "source": [
        "When the `duration` feature is dropped, then the ROC AUC score drops. Which is what we expect, it's not a bad thing in this situation!"
      ]
    },
    {
      "cell_type": "code",
      "metadata": {
        "id": "YgZJdCuIJwA4",
        "colab_type": "code",
        "colab": {}
      },
      "source": [
        ""
      ],
      "execution_count": 0,
      "outputs": []
    },
    {
      "cell_type": "code",
      "metadata": {
        "id": "rUyJpZw2JwA6",
        "colab_type": "code",
        "colab": {}
      },
      "source": [
        "dot_data = export_graphviz(tree, out_file=None, feature_names=X_train_numeric.columns, \n",
        "                           class_names=['No', 'Yes'], filled=True, impurity=False, proportion=True)\n",
        "\n",
        "graphviz.Source(dot_data)"
      ],
      "execution_count": 0,
      "outputs": []
    },
    {
      "cell_type": "markdown",
      "metadata": {
        "id": "eKHbK-C5JwA9",
        "colab_type": "text"
      },
      "source": [
        "### Logistic Regression\n",
        "\n",
        "Logistic Regression is another great option for fast, first baselines!"
      ]
    },
    {
      "cell_type": "code",
      "metadata": {
        "id": "NVKGZtetJwA-",
        "colab_type": "code",
        "colab": {}
      },
      "source": [
        ""
      ],
      "execution_count": 0,
      "outputs": []
    },
    {
      "cell_type": "markdown",
      "metadata": {
        "id": "Xx-_mVheJwA_",
        "colab_type": "text"
      },
      "source": [
        "### With Scaler\n",
        "https://scikit-learn.org/stable/modules/preprocessing.html"
      ]
    },
    {
      "cell_type": "code",
      "metadata": {
        "id": "9z4lY2IfJwBA",
        "colab_type": "code",
        "colab": {}
      },
      "source": [
        "import warnings\n",
        "from sklearn.exceptions import DataConversionWarning\n",
        "warnings.filterwarnings(action='ignore', category=DataConversionWarning)"
      ],
      "execution_count": 0,
      "outputs": []
    },
    {
      "cell_type": "code",
      "metadata": {
        "id": "gvvjIjiNJwBG",
        "colab_type": "code",
        "colab": {}
      },
      "source": [
        ""
      ],
      "execution_count": 0,
      "outputs": []
    },
    {
      "cell_type": "markdown",
      "metadata": {
        "id": "8PdulelpJwBI",
        "colab_type": "text"
      },
      "source": [
        "### Same, as a pipeline"
      ]
    },
    {
      "cell_type": "code",
      "metadata": {
        "id": "PfmCdH9uJwBJ",
        "colab_type": "code",
        "colab": {}
      },
      "source": [
        ""
      ],
      "execution_count": 0,
      "outputs": []
    },
    {
      "cell_type": "markdown",
      "metadata": {
        "id": "dZTIOBwtJwBL",
        "colab_type": "text"
      },
      "source": [
        "### Encode \"low cardinality\" categoricals"
      ]
    },
    {
      "cell_type": "markdown",
      "metadata": {
        "id": "5BlW8y-RJwBL",
        "colab_type": "text"
      },
      "source": [
        "[Cardinality](https://simple.wikipedia.org/wiki/Cardinality) means the number of unique values that a feature has:\n",
        "> In mathematics, the cardinality of a set means the number of its elements. For example, the set A = {2, 4, 6} contains 3 elements, and therefore A has a cardinality of 3. \n",
        "\n",
        "One-hot encoding adds a dimension for each unique value of each categorical feature. So, it may not be a good choice for \"high cardinality\" categoricals that have dozens, hundreds, or thousands of unique values. \n",
        "\n",
        "In this dataset, all the categoricals seem to be \"low cardinality\", so we can use one-hot encoding."
      ]
    },
    {
      "cell_type": "code",
      "metadata": {
        "id": "URiTx4DuJwBM",
        "colab_type": "code",
        "colab": {}
      },
      "source": [
        ""
      ],
      "execution_count": 0,
      "outputs": []
    },
    {
      "cell_type": "markdown",
      "metadata": {
        "id": "LmJhYb3bJwBP",
        "colab_type": "text"
      },
      "source": [
        "#### Install the [Category Encoders](https://github.com/scikit-learn-contrib/categorical-encoding) library\n",
        "\n",
        "If you're running on Google Colab:\n",
        "\n",
        "```\n",
        "!pip install category_encoders\n",
        "```\n",
        "\n",
        "If you're running locally with Anaconda:\n",
        "\n",
        "```\n",
        "!conda install -c conda-forge category_encoders\n",
        "```"
      ]
    },
    {
      "cell_type": "code",
      "metadata": {
        "id": "edpMVwiDJwBQ",
        "colab_type": "code",
        "colab": {}
      },
      "source": [
        ""
      ],
      "execution_count": 0,
      "outputs": []
    },
    {
      "cell_type": "markdown",
      "metadata": {
        "id": "n8pgnZu1JwBR",
        "colab_type": "text"
      },
      "source": [
        "# Baseline with cross-validation + independent test set\n",
        "A complete example, as an alternative to Train/Validate/Test\n",
        "\n",
        "\n",
        "#### scikit-learn documentation\n",
        "- [`sklearn.model_selection.cross_val_score`](https://scikit-learn.org/stable/modules/generated/sklearn.model_selection.cross_val_score.html)\n",
        "- [ The `scoring` parameter: defining model evaluation rules](https://scikit-learn.org/stable/modules/model_evaluation.html#the-scoring-parameter-defining-model-evaluation-rules)"
      ]
    },
    {
      "cell_type": "code",
      "metadata": {
        "id": "ALqOple-JwBS",
        "colab_type": "code",
        "colab": {}
      },
      "source": [
        "# Imports\n",
        "%matplotlib inline\n",
        "import warnings\n",
        "import category_encoders as ce\n",
        "import matplotlib.pyplot as plt\n",
        "import pandas as pd\n",
        "from sklearn.linear_model import LogisticRegression\n",
        "from sklearn.model_selection import cross_val_score\n",
        "from sklearn.pipeline import make_pipeline\n",
        "from sklearn.exceptions import DataConversionWarning\n",
        "from sklearn.preprocessing import StandardScaler\n",
        "warnings.filterwarnings(action='ignore', category=DataConversionWarning)\n",
        "\n",
        "# Load data\n",
        "bank = pd.read_csv('bank-additional/bank-additional-full.csv', sep=';')\n",
        "\n",
        "# Assign to X, y\n",
        "X = bank.drop(columns='y')\n",
        "y = bank['y'] == 'yes'\n",
        "\n",
        "# Drop leaky & random features\n",
        "X = X.drop(columns='duration')\n",
        "\n",
        "# Split Train, Test\n",
        "X_train, X_test, y_train, y_test = train_test_split(\n",
        "    X, y, test_size=0.2, random_state=42, stratify=y)\n",
        "\n",
        "# Make pipeline\n",
        "pipeline = make_pipeline(\n",
        "    ce.OneHotEncoder(use_cat_names=True), \n",
        "    StandardScaler(), \n",
        "    LogisticRegression(solver='lbfgs', max_iter=1000)\n",
        ")\n",
        "\n",
        "# Cross-validate with training data\n",
        "scores = cross_val_score(pipeline, X_train, y_train, scoring='roc_auc', cv=10, n_jobs=-1, verbose=10)"
      ],
      "execution_count": 0,
      "outputs": []
    },
    {
      "cell_type": "markdown",
      "metadata": {
        "id": "pZGbyV9bJwBV",
        "colab_type": "text"
      },
      "source": [
        "This is the baseline score that more sophisticated models must beat. "
      ]
    },
    {
      "cell_type": "code",
      "metadata": {
        "id": "FyCgHbNcJwBV",
        "colab_type": "code",
        "colab": {}
      },
      "source": [
        "print('Cross-Validation ROC AUC scores:', scores)\n",
        "print('Average:', scores.mean())"
      ],
      "execution_count": 0,
      "outputs": []
    },
    {
      "cell_type": "markdown",
      "metadata": {
        "id": "s21d-CjxJwBX",
        "colab_type": "text"
      },
      "source": [
        "Is more effort justified? It depends. The blogpost [\"Always start with a stupid model\"](https://blog.insightdatascience.com/always-start-with-a-stupid-model-no-exceptions-3a22314b9aaa) explains,\n",
        "\n",
        "> Here is a very common story: a team wants to implement a model to predict something like the probability of a user clicking an ad. They start with a logistic regression and quickly (after some minor tuning) reach 90% accuracy.\n",
        "\n",
        "> From there, the question is: Should the team focus on getting the accuracy up to 95%, or should they solve other problems 90% of the way?\n",
        "\n",
        "> ***If a baseline does well, then you’ve saved yourself the headache of setting up a more complex model. If it does poorly, the kind of mistakes it makes are very instructive*** ...\n",
        "\n",
        "So what else can we learn from this baseline? \n",
        "\n",
        "[\"Always start with a stupid model\"](https://blog.insightdatascience.com/always-start-with-a-stupid-model-no-exceptions-3a22314b9aaa) suggests to look at\n",
        "\n",
        "> **What type of signal your model picks up on.** Most baselines will allow you to extract ***feature importances***, revealing which aspects of the input are most predictive. Analyzing feature importance is a great way to realize how your model is making decisions, and what it might be missing.\n",
        "\n",
        "We can do that:"
      ]
    },
    {
      "cell_type": "code",
      "metadata": {
        "id": "b1ne-MCFJwBX",
        "colab_type": "code",
        "colab": {}
      },
      "source": [
        "# (Re)fit on training data\n",
        "pipeline.fit(X_train, y_train)\n",
        "\n",
        "# Visualize coefficients\n",
        "plt.figure(figsize=(10,30))\n",
        "plt.title('Coefficients')\n",
        "coefficients = pipeline.named_steps['logisticregression'].coef_[0]\n",
        "feature_names = pipeline.named_steps['onehotencoder'].transform(X_train).columns\n",
        "pd.Series(coefficients, feature_names).sort_values().plot.barh(color='gray');"
      ],
      "execution_count": 0,
      "outputs": []
    },
    {
      "cell_type": "markdown",
      "metadata": {
        "id": "ZOffTsTlJwBa",
        "colab_type": "text"
      },
      "source": [
        "[The post](https://blog.insightdatascience.com/always-start-with-a-stupid-model-no-exceptions-3a22314b9aaa) also recommends we consider, \n",
        "\n",
        "> **What signal your model is missing.** If there is a certain aspect of the data that seems intuitively important but that your model is ignoring, ***a good next step is to engineer a feature*** or pick a different model that could better leverage this particular aspect of your data."
      ]
    },
    {
      "cell_type": "markdown",
      "metadata": {
        "id": "yEDRbNfkJwBa",
        "colab_type": "text"
      },
      "source": [
        "### Look at your data (you still need to do it!)\n",
        "\n",
        "Cautionary tales\n",
        "- [Exploring the ChestXray14 dataset: problems](https://lukeoakdenrayner.wordpress.com/2017/12/18/the-chestxray14-dataset-problems/)\n",
        "- [The Quartz guide to bad data](https://github.com/Quartz/bad-data-guide)\n",
        "\n",
        "Incomplete list of issues to address\n",
        "- Categoricals (text, dates/times, high cardinality)\n",
        "- Feature Engineering (extraction, interaction, transformations)\n",
        "- Missing Values\n",
        "- Outliers"
      ]
    },
    {
      "cell_type": "markdown",
      "metadata": {
        "id": "-huUD9rWJwBa",
        "colab_type": "text"
      },
      "source": [
        "# ASSIGNMENT options\n",
        "\n",
        "- **Replicate the lesson code.** [Do it \"the hard way\" or with the \"Benjamin Franklin method.\"](https://docs.google.com/document/d/1ubOw9B3Hfip27hF2ZFnW3a3z9xAgrUDRReOEo-FHCVs/edit)\n",
        "- Apply the lesson to other datasets you've worked with before, and compare results.\n",
        "- Iterate and improve your **Bank Marketing** model. Engineer new features.\n",
        "- Get **weather** data for your own area and calculate both baselines.  _\"One (persistence) predicts that the weather tomorrow is going to be whatever it was today. The other (climatology) predicts whatever the average historical weather has been on this day from prior years.\"_ What is the mean absolute error for each baseline? What if you average the two together? \n",
        "- [This example from scikit-learn documentation](https://scikit-learn.org/stable/auto_examples/compose/plot_column_transformer_mixed_types.html) demonstrates its improved `OneHotEncoder` and new `ColumnTransformer` objects, which can replace functionality from [third-party libraries](https://github.com/scikit-learn-contrib) like category_encoders and sklearn-pandas. Adapt this example, which uses Titanic data, to work with Bank Marketing or another dataset.\n",
        "- When would this notebook's pipelines fail? How could you fix them? Add more [preprocessing](https://scikit-learn.org/stable/modules/preprocessing.html) and [imputation](https://scikit-learn.org/stable/modules/impute.html) to your [pipelines](https://scikit-learn.org/stable/modules/compose.html) with scikit-learn."
      ]
    }
  ]
}